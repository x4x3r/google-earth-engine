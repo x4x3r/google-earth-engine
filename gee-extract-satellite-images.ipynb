{
 "cells": [
  {
   "cell_type": "markdown",
   "id": "92e142f6",
   "metadata": {},
   "source": [
    "### Task description"
   ]
  },
  {
   "cell_type": "markdown",
   "id": "6659e241",
   "metadata": {},
   "source": [
    "### Tasks:\n",
    "\n",
    "+ Prepare shape maps of agricultural (i.e., crop) areas in the United Arab Emirates.\n",
    "+ Based on the prepared shape maps, write Python code using Google Earth Engine API to extract the relevant Landsat and Sentinel satellite bands and images across different timeframes.\n",
    "Source images: https://geodata.lib.utexas.edu/catalog/nyu-2451-44247"
   ]
  },
  {
   "cell_type": "code",
   "execution_count": 4,
   "id": "3389dfac",
   "metadata": {},
   "outputs": [
    {
     "name": "stdout",
     "output_type": "stream",
     "text": [
      "extract_satellite_images.ipynb  \u001b[0m\u001b[01;34mnyu_2451_44247\u001b[0m/  \u001b[01;31mnyu_2451_44247.zip\u001b[0m\r\n"
     ]
    }
   ],
   "source": [
    "%ls"
   ]
  },
  {
   "cell_type": "code",
   "execution_count": null,
   "id": "7fc36302",
   "metadata": {},
   "outputs": [],
   "source": []
  },
  {
   "cell_type": "code",
   "execution_count": 18,
   "id": "1bf19251",
   "metadata": {},
   "outputs": [
    {
     "data": {
      "text/html": [
       "<p>To authorize access needed by Earth Engine, open the following\n",
       "        URL in a web browser and follow the instructions:</p>\n",
       "        <p><a href=https://code.earthengine.google.com/client-auth?scopes=https%3A//www.googleapis.com/auth/earthengine%20https%3A//www.googleapis.com/auth/devstorage.full_control&request_id=jkSt4zuxvTt0m60uPpdWALZLIModWSXDh6_AdqOSZho&tc=Bs4r7r4xTQ2JeZlyxRheNJBcVt_KFuSu93pCESxdj_k&cc=7of_lueYE0spDpS4mX7u8cBOWsNNY050f7A82RIwBYc>https://code.earthengine.google.com/client-auth?scopes=https%3A//www.googleapis.com/auth/earthengine%20https%3A//www.googleapis.com/auth/devstorage.full_control&request_id=jkSt4zuxvTt0m60uPpdWALZLIModWSXDh6_AdqOSZho&tc=Bs4r7r4xTQ2JeZlyxRheNJBcVt_KFuSu93pCESxdj_k&cc=7of_lueYE0spDpS4mX7u8cBOWsNNY050f7A82RIwBYc</a></p>\n",
       "        <p>The authorization workflow will generate a code, which you should paste in the box below.</p>\n",
       "        "
      ],
      "text/plain": [
       "<IPython.core.display.HTML object>"
      ]
     },
     "metadata": {},
     "output_type": "display_data"
    },
    {
     "name": "stdout",
     "output_type": "stream",
     "text": [
      "Enter verification code: 4/1AWtgzh7Vcmrd_BcO3gPk2oYTaAtPSfY80eKBm1YLJnkKmYNK-6aWQhpvCx4\n",
      "\n",
      "Successfully saved authorization token.\n"
     ]
    }
   ],
   "source": [
    "import ee\n",
    "\n",
    "# Trigger the authentication flow.\n",
    "ee.Authenticate()\n",
    "\n",
    "# Initialize the library.\n",
    "ee.Initialize()"
   ]
  },
  {
   "cell_type": "code",
   "execution_count": 20,
   "id": "3e4699fa",
   "metadata": {},
   "outputs": [
    {
     "name": "stdout",
     "output_type": "stream",
     "text": [
      "Number of Landsat images:  222\n",
      "Number of Sentinel-2 images:  1696\n",
      "First Landsat Image:\n"
     ]
    },
    {
     "data": {
      "text/plain": [
       "<ee.image.Image at 0x7f217adaa110>"
      ]
     },
     "metadata": {},
     "output_type": "display_data"
    },
    {
     "name": "stdout",
     "output_type": "stream",
     "text": [
      "First Sentinel-2 Image:\n"
     ]
    },
    {
     "data": {
      "text/plain": [
       "<ee.image.Image at 0x7f217ae611d0>"
      ]
     },
     "metadata": {},
     "output_type": "display_data"
    }
   ],
   "source": [
    "# Load the shape map as a feature collection\n",
    "shp = ee.FeatureCollection(\"projects/ee-images/assets/palmtrees\")\n",
    "\n",
    "# Define a date range\n",
    "start_date = '2018-01-01'\n",
    "end_date = '2018-12-31'\n",
    "\n",
    "# Load the Landsat collection, select relevant bands, and filter by date range and shape\n",
    "landsat_collection = ee.ImageCollection(\"LANDSAT/LC08/C01/T1_SR\") \\\n",
    "    .select(['B4', 'B3', 'B2']) \\\n",
    "    .filterDate(start_date, end_date) \\\n",
    "    .filterBounds(shp)\n",
    "\n",
    "# Load the Sentinel-2 collection, select relevant bands, and filter by date range and shape\n",
    "sentinel_collection = ee.ImageCollection(\"COPERNICUS/S2\") \\\n",
    "    .select(['B4', 'B3', 'B2']) \\\n",
    "    .filterDate(start_date, end_date) \\\n",
    "    .filterBounds(shp)\n",
    "\n",
    "# Print the number of images in each collection\n",
    "print(\"Number of Landsat images: \", landsat_collection.size().getInfo())\n",
    "print(\"Number of Sentinel-2 images: \", sentinel_collection.size().getInfo())\n",
    "\n",
    "# Select the first image in each collection\n",
    "landsat_image = landsat_collection.first()\n",
    "sentinel_image = sentinel_collection.first()\n",
    "\n",
    "# Display the images\n",
    "print(\"First Landsat Image:\")\n",
    "display(landsat_image)\n",
    "print(\"First Sentinel-2 Image:\")\n",
    "display(sentinel_image)\n"
   ]
  },
  {
   "cell_type": "markdown",
   "id": "12995077",
   "metadata": {},
   "source": [
    "### Export a single image to Drive"
   ]
  },
  {
   "cell_type": "code",
   "execution_count": 35,
   "id": "15f9b377",
   "metadata": {},
   "outputs": [
    {
     "data": {
      "text/plain": [
       "{'state': 'READY',\n",
       " 'description': 'Landsat_image_download',\n",
       " 'creation_timestamp_ms': 1675100886297,\n",
       " 'update_timestamp_ms': 1675100886297,\n",
       " 'start_timestamp_ms': 0,\n",
       " 'task_type': 'EXPORT_IMAGE',\n",
       " 'id': 'PATZHXZHND25LBERQMOSK7V2',\n",
       " 'name': 'projects/earthengine-legacy/operations/PATZHXZHND25LBERQMOSK7V2'}"
      ]
     },
     "execution_count": 35,
     "metadata": {},
     "output_type": "execute_result"
    }
   ],
   "source": [
    "## Import the download module\n",
    "from ee import batch\n",
    "\n",
    "# Define the task for downloading the image\n",
    "task1 = ee.batch.Export.image.toDrive(landsat_image, \n",
    "                                     description=\"Landsat_image_download\",\n",
    "                                     folder=\"GEE_downloads\",\n",
    "                                     scale=100, \n",
    "                                     region=shp.geometry().bounds().getInfo()['coordinates'])\n",
    "\n",
    "# Start the task\n",
    "task1.start()\n",
    "\n",
    "# Check task status\n",
    "task1.status()"
   ]
  },
  {
   "cell_type": "code",
   "execution_count": 36,
   "id": "312dde34",
   "metadata": {},
   "outputs": [
    {
     "data": {
      "text/plain": [
       "{'state': 'READY',\n",
       " 'description': 'Sentinel_image_download',\n",
       " 'creation_timestamp_ms': 1675101003496,\n",
       " 'update_timestamp_ms': 1675101003496,\n",
       " 'start_timestamp_ms': 0,\n",
       " 'task_type': 'EXPORT_IMAGE',\n",
       " 'id': '2IVMVSJMAYHWT2YLLMLMW6QP',\n",
       " 'name': 'projects/earthengine-legacy/operations/2IVMVSJMAYHWT2YLLMLMW6QP'}"
      ]
     },
     "execution_count": 36,
     "metadata": {},
     "output_type": "execute_result"
    }
   ],
   "source": [
    "# Repeat the same process for the Sentinel-2 image\n",
    "task2 = ee.batch.Export.image.toDrive(sentinel_image, \n",
    "                                     description=\"Sentinel_image_download\",\n",
    "                                     folder=\"GEE_downloads\",\n",
    "                                     scale=100, \n",
    "                                     region=shp.geometry().bounds().getInfo()['coordinates'])\n",
    "task2.start()\n",
    "task2.status()"
   ]
  },
  {
   "cell_type": "code",
   "execution_count": 34,
   "id": "9480bb76",
   "metadata": {},
   "outputs": [
    {
     "data": {
      "text/plain": [
       "{'state': 'CANCEL_REQUESTED',\n",
       " 'description': 'Sentinel_image_download',\n",
       " 'creation_timestamp_ms': 1675099919310,\n",
       " 'update_timestamp_ms': 1675100291479,\n",
       " 'start_timestamp_ms': 1675099926154,\n",
       " 'task_type': 'EXPORT_IMAGE',\n",
       " 'attempt': 1,\n",
       " 'id': 'C65S7NWWYDPHZP5FWPSRUZTH',\n",
       " 'name': 'projects/earthengine-legacy/operations/C65S7NWWYDPHZP5FWPSRUZTH'}"
      ]
     },
     "execution_count": 34,
     "metadata": {},
     "output_type": "execute_result"
    }
   ],
   "source": [
    "task.status()"
   ]
  },
  {
   "cell_type": "markdown",
   "id": "99855e49",
   "metadata": {},
   "source": [
    "### Export multiple images to drive"
   ]
  },
  {
   "cell_type": "code",
   "execution_count": null,
   "id": "c482cb69",
   "metadata": {},
   "outputs": [],
   "source": [
    "# Export Landsat images to Google Drive\n",
    "for image in landsat_collection.toList(1000):\n",
    "    ee.batch.Export.image.toDrive(image=ee.Image(image), **param).start()"
   ]
  },
  {
   "cell_type": "code",
   "execution_count": null,
   "id": "6a6b2d49",
   "metadata": {},
   "outputs": [],
   "source": [
    "# Export Sentinel images to Google Drive\n",
    "for image in sentinel_collection.toList(1000):\n",
    "    ee.batch.Export.image.toDrive(image=ee.Image(image), **param).start()"
   ]
  }
 ],
 "metadata": {
  "kernelspec": {
   "display_name": "Python 3 (ipykernel)",
   "language": "python",
   "name": "python3"
  },
  "language_info": {
   "codemirror_mode": {
    "name": "ipython",
    "version": 3
   },
   "file_extension": ".py",
   "mimetype": "text/x-python",
   "name": "python",
   "nbconvert_exporter": "python",
   "pygments_lexer": "ipython3",
   "version": "3.11.0"
  }
 },
 "nbformat": 4,
 "nbformat_minor": 5
}
